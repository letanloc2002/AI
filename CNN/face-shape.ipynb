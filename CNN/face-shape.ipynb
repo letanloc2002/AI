{
  "nbformat": 4,
  "nbformat_minor": 0,
  "metadata": {
    "colab": {
      "provenance": []
    },
    "kernelspec": {
      "name": "python3",
      "display_name": "Python 3"
    },
    "language_info": {
      "name": "python"
    },
    "accelerator": "GPU",
    "gpuClass": "standard"
  },
  "cells": [
    {
      "cell_type": "code",
      "source": [
        "from google.colab import drive\n",
        "drive.mount('/content/drive')"
      ],
      "metadata": {
        "colab": {
          "base_uri": "https://localhost:8080/"
        },
        "id": "BjW5g6phtUSN",
        "outputId": "cd1c03be-852b-4036-8c1f-4b1aa204fb29"
      },
      "execution_count": null,
      "outputs": [
        {
          "output_type": "stream",
          "name": "stdout",
          "text": [
            "Drive already mounted at /content/drive; to attempt to forcibly remount, call drive.mount(\"/content/drive\", force_remount=True).\n"
          ]
        }
      ]
    },
    {
      "cell_type": "code",
      "source": [
        "%cd /content/drive/MyDrive/AI"
      ],
      "metadata": {
        "colab": {
          "base_uri": "https://localhost:8080/"
        },
        "id": "frrDaiH6toH0",
        "outputId": "5e9c2e04-bed6-44c1-ae5c-2f8f751cf264"
      },
      "execution_count": null,
      "outputs": [
        {
          "output_type": "stream",
          "name": "stdout",
          "text": [
            "/content/drive/.shortcut-targets-by-id/1O_0Uw-xnBdDwqSJyacfeV3Hino5B7CAo/AI\n"
          ]
        }
      ]
    },
    {
      "cell_type": "code",
      "execution_count": null,
      "metadata": {
        "id": "CtuYjznwl6Q1"
      },
      "outputs": [],
      "source": [
        "from keras.applications import VGG16\n",
        "from keras.models import Sequential\n",
        "from keras.layers import Dense, Dropout, Flatten, Conv2D, MaxPooling2D, Normalization\n",
        "from keras.optimizers import SGD\n",
        "from keras.preprocessing.image import ImageDataGenerator"
      ]
    },
    {
      "cell_type": "code",
      "source": [
        "vgg_model = VGG16(weights='imagenet', include_top=False, input_shape=(200, 200, 3))"
      ],
      "metadata": {
        "id": "qcdymozvmXPG"
      },
      "execution_count": null,
      "outputs": []
    },
    {
      "cell_type": "code",
      "source": [
        "model = Sequential()\n",
        "model.add(vgg_model)\n",
        "model.add(Flatten())\n",
        "model.add(Dense(512, activation='relu'))\n",
        "model.add(Dropout(0.5))\n",
        "model.add(Dense(5, activation='softmax'))"
      ],
      "metadata": {
        "id": "460HVg_TmaYs"
      },
      "execution_count": null,
      "outputs": []
    },
    {
      "cell_type": "code",
      "source": [
        "for layer in vgg_model.layers:\n",
        "    layer.trainable = False"
      ],
      "metadata": {
        "id": "jxWeeSesmfG5"
      },
      "execution_count": null,
      "outputs": []
    },
    {
      "cell_type": "code",
      "source": [
        "sgd = SGD(lr=0.0005, momentum=0.9)\n",
        "model.compile(optimizer=sgd, loss='categorical_crossentropy', metrics=['accuracy'])"
      ],
      "metadata": {
        "id": "5pCxG_vwmivr"
      },
      "execution_count": null,
      "outputs": []
    },
    {
      "cell_type": "code",
      "source": [
        "train_datagen = ImageDataGenerator(rescale=1./255, shear_range=0.2, zoom_range=0.2, horizontal_flip=True)\n",
        "test_datagen = ImageDataGenerator(rescale=1./255)\n",
        "train_generator = train_datagen.flow_from_directory('/content/drive/MyDrive/AI/FaceShape Dataset (1)/TRAIN/', target_size=(200, 200), batch_size=32, class_mode='categorical')\n",
        "test_generator = test_datagen.flow_from_directory('/content/drive/MyDrive/AI/FaceShape Dataset (1)/TEST/', target_size=(200, 200), batch_size=32, class_mode='categorical')\n"
      ],
      "metadata": {
        "colab": {
          "base_uri": "https://localhost:8080/"
        },
        "id": "A1msnaUFmmEc",
        "outputId": "1c53e878-9ffd-41bd-b25b-9c964cb6183b"
      },
      "execution_count": null,
      "outputs": [
        {
          "output_type": "stream",
          "name": "stdout",
          "text": [
            "Found 3775 images belonging to 5 classes.\n",
            "Found 1000 images belonging to 5 classes.\n"
          ]
        }
      ]
    },
    {
      "cell_type": "code",
      "source": [
        "model.fit_generator(train_generator, steps_per_epoch=len(train_generator), epochs=20, validation_data=test_generator, validation_steps=len(test_generator))\n",
        "score = model.evaluate_generator(test_generator, steps=len(test_generator))\n",
        "print('Test loss:', score[0])\n",
        "print('Test accuracy:', score[1])"
      ],
      "metadata": {
        "colab": {
          "base_uri": "https://localhost:8080/"
        },
        "id": "ortLm4Cdmo_t",
        "outputId": "96107690-1fc5-4957-941c-eeee2bdc54a3"
      },
      "execution_count": null,
      "outputs": [
        {
          "output_type": "stream",
          "name": "stderr",
          "text": [
            "<ipython-input-35-c087d4cc23b6>:1: UserWarning: `Model.fit_generator` is deprecated and will be removed in a future version. Please use `Model.fit`, which supports generators.\n",
            "  model.fit_generator(train_generator, steps_per_epoch=len(train_generator), epochs=20, validation_data=test_generator, validation_steps=len(test_generator))\n"
          ]
        },
        {
          "output_type": "stream",
          "name": "stdout",
          "text": [
            "Epoch 1/20\n",
            "118/118 [==============================] - 61s 508ms/step - loss: 1.6526 - accuracy: 0.2501 - val_loss: 1.5322 - val_accuracy: 0.2770\n",
            "Epoch 2/20\n",
            "118/118 [==============================] - 49s 413ms/step - loss: 1.5432 - accuracy: 0.2925 - val_loss: 1.5011 - val_accuracy: 0.3670\n",
            "Epoch 3/20\n",
            "118/118 [==============================] - 49s 414ms/step - loss: 1.5012 - accuracy: 0.3274 - val_loss: 1.4795 - val_accuracy: 0.3580\n",
            "Epoch 4/20\n",
            "118/118 [==============================] - 49s 418ms/step - loss: 1.4879 - accuracy: 0.3470 - val_loss: 1.4630 - val_accuracy: 0.3590\n",
            "Epoch 5/20\n",
            "118/118 [==============================] - 48s 410ms/step - loss: 1.4689 - accuracy: 0.3589 - val_loss: 1.4390 - val_accuracy: 0.3980\n",
            "Epoch 6/20\n",
            "118/118 [==============================] - 49s 417ms/step - loss: 1.4547 - accuracy: 0.3706 - val_loss: 1.4347 - val_accuracy: 0.3810\n",
            "Epoch 7/20\n",
            "118/118 [==============================] - 49s 418ms/step - loss: 1.4286 - accuracy: 0.3796 - val_loss: 1.4034 - val_accuracy: 0.3950\n",
            "Epoch 8/20\n",
            "118/118 [==============================] - 48s 410ms/step - loss: 1.4243 - accuracy: 0.3838 - val_loss: 1.4232 - val_accuracy: 0.3890\n",
            "Epoch 9/20\n",
            "118/118 [==============================] - 49s 415ms/step - loss: 1.4150 - accuracy: 0.3984 - val_loss: 1.4058 - val_accuracy: 0.4000\n",
            "Epoch 10/20\n",
            "118/118 [==============================] - 49s 411ms/step - loss: 1.4123 - accuracy: 0.4024 - val_loss: 1.4334 - val_accuracy: 0.3840\n",
            "Epoch 11/20\n",
            "118/118 [==============================] - 49s 412ms/step - loss: 1.3922 - accuracy: 0.4058 - val_loss: 1.4128 - val_accuracy: 0.3990\n",
            "Epoch 12/20\n",
            "118/118 [==============================] - 50s 421ms/step - loss: 1.3813 - accuracy: 0.4090 - val_loss: 1.3556 - val_accuracy: 0.4370\n",
            "Epoch 13/20\n",
            "118/118 [==============================] - 50s 420ms/step - loss: 1.3603 - accuracy: 0.4265 - val_loss: 1.3378 - val_accuracy: 0.4390\n",
            "Epoch 14/20\n",
            "118/118 [==============================] - 55s 459ms/step - loss: 1.3477 - accuracy: 0.4363 - val_loss: 1.3583 - val_accuracy: 0.4300\n",
            "Epoch 15/20\n",
            "118/118 [==============================] - 48s 408ms/step - loss: 1.3423 - accuracy: 0.4326 - val_loss: 1.3576 - val_accuracy: 0.4340\n",
            "Epoch 16/20\n",
            "118/118 [==============================] - 49s 413ms/step - loss: 1.3394 - accuracy: 0.4395 - val_loss: 1.3651 - val_accuracy: 0.4280\n",
            "Epoch 17/20\n",
            "118/118 [==============================] - 49s 411ms/step - loss: 1.3354 - accuracy: 0.4408 - val_loss: 1.3491 - val_accuracy: 0.4380\n",
            "Epoch 18/20\n",
            "118/118 [==============================] - 49s 419ms/step - loss: 1.3381 - accuracy: 0.4392 - val_loss: 1.3326 - val_accuracy: 0.4480\n",
            "Epoch 19/20\n",
            "118/118 [==============================] - 48s 410ms/step - loss: 1.3274 - accuracy: 0.4509 - val_loss: 1.3347 - val_accuracy: 0.4130\n",
            "Epoch 20/20\n",
            "118/118 [==============================] - 48s 409ms/step - loss: 1.3151 - accuracy: 0.4604 - val_loss: 1.3388 - val_accuracy: 0.4160\n"
          ]
        },
        {
          "output_type": "stream",
          "name": "stderr",
          "text": [
            "<ipython-input-35-c087d4cc23b6>:2: UserWarning: `Model.evaluate_generator` is deprecated and will be removed in a future version. Please use `Model.evaluate`, which supports generators.\n",
            "  score = model.evaluate_generator(test_generator, steps=len(test_generator))\n"
          ]
        },
        {
          "output_type": "stream",
          "name": "stdout",
          "text": [
            "Test loss: 1.3387548923492432\n",
            "Test accuracy: 0.41600000858306885\n"
          ]
        }
      ]
    },
    {
      "cell_type": "code",
      "source": [
        "model.save('/content/drive/MyDrive/AI/models/FaceShape.h5')"
      ],
      "metadata": {
        "id": "f4ZIodnomrB5"
      },
      "execution_count": null,
      "outputs": []
    },
    {
      "cell_type": "code",
      "source": [
        "from keras.models import load_model\n",
        "model = load_model('/content/drive/MyDrive/AI/models/Face.h5')"
      ],
      "metadata": {
        "id": "9qYJXegfmtwV"
      },
      "execution_count": null,
      "outputs": []
    },
    {
      "cell_type": "code",
      "source": [
        "from keras.utils import load_img\n",
        "from keras.utils import img_to_array\n",
        "from pylab import *\n",
        "url = 'loc.jpg'\n",
        "img = load_img(url)\n",
        "imshow(img)"
      ],
      "metadata": {
        "id": "nJ9jHaZlmyGP"
      },
      "execution_count": null,
      "outputs": []
    },
    {
      "cell_type": "code",
      "source": [
        "img = load_img(url, target_size = (40,40))\n",
        "imshow(img)\n",
        "img = img_to_array(img)\n",
        "img = img.reshape(1,40,40,3)\n",
        "img = img.astype('float32')\n",
        "img = img/255\n",
        "a= np.argmax(model.predict(img), axis = -1)"
      ],
      "metadata": {
        "id": "eEiaLaArm219"
      },
      "execution_count": null,
      "outputs": []
    },
    {
      "cell_type": "code",
      "source": [
        "if a == 0:\n",
        "  print('Nữ giới mặt hình trái tim thông minh, khôn khéo, nhanh nhạy nên đường công danh và sự nghiệp tốt. Tuy nhiên, ở giai đoạn 22 – 26 tuổi, sự nghiệp của họ khá lận đận, phải thay đổi nhiều môi trường mới tìm được công việc phù hợp. Sau năm 26 tuổi, những người sở hữu mặt trái tim phải cố gắng nỗ lực trong công việc thì hậu vận mới được an nhàn, sự nghiệp từ đó bắt đầu “phất lên như diều gặp gió”.')\n",
        "  print('Đàn ông sở hữu tướng mặt hình trái tim có đường sự nghiệp tương đối tốt.Họ chịu áp lực rất giỏi và phù hợp với những công việc đòi hỏi tính sáng tạo. Nếu hoạt động nghệ thuật, nam giới mặt trái tim sẽ gặt hái thành tựu to lớn và có nhiều điểm khác biệt tạo nên thương hiệu cá nhân.')\n",
        "if a == 1:\n",
        "  print('Xem tướng mặt dài, người có tướng mặt này thích hợp với thi ca, âm nhạc, phóng viên, nhà quảng cáo... và công việc mang tính sáng tạo khác.')\n",
        "if a == 2:\n",
        "  print('Người phụ nữ sở hữu dáng khuôn mặt này không chỉ đẹp, thu hút ánh nhìn của người khác. Mà còn được nhận xét là người thông minh, cư xử khôn khéo. Chính vì vậy nên họ được rất nhiều người giúp đỡ, tương trợ trong công việc.')\n",
        "  print('Những người đàn ông mang khuôn mặt giống quả xoan thường là người thông minh, nhanh nhẹn, khiêm nhường và thấu hiểu mọi vấn đề trong cuộc sống. Vì vậy nên họ có rất nhiều mối quan hệ tốt trong xã hội.')\n",
        "if a == 3:\n",
        "  print('Trong nhân tướng, gương mặt này được xem là gương mặt phúc tướng, làm việc gì cũng có quý nhân bên cạnh. Từ đời sống tình cảm đến đời sống vật chất đều rất viên mãn. Trong suốt đường dài cuộc đời, nếu chẳng may họ gặp phải khó khăn trắc trở thì đó cũng chỉ là giai đoạn nhất thời, sớm muộn rồi cũng sẽ vượt qua ngoạn mục. ')\n",
        "if a == 4:\n",
        "  print('Người có tướng khuôn mặt vuông chữ điền dù là đàn ông hay phụ nữ thường đáng tin cậy và có sự kiên trì. Nếu ngũ quan tốt thì có thể đạt được tiền tài, công danh xán lạn, được mọi người trọng vọng.')\n"
      ],
      "metadata": {
        "colab": {
          "base_uri": "https://localhost:8080/",
          "height": 287
        },
        "id": "gscuEjGqnQ3Q",
        "outputId": "0b9c22b7-c0c0-4813-dc72-de6f75dfd9c9"
      },
      "execution_count": null,
      "outputs": [
        {
          "output_type": "error",
          "ename": "NameError",
          "evalue": "ignored",
          "traceback": [
            "\u001b[0;31m---------------------------------------------------------------------------\u001b[0m",
            "\u001b[0;31mNameError\u001b[0m                                 Traceback (most recent call last)",
            "\u001b[0;32m<ipython-input-2-996f917bda88>\u001b[0m in \u001b[0;36m<cell line: 1>\u001b[0;34m()\u001b[0m\n\u001b[0;32m----> 1\u001b[0;31m \u001b[0;32mif\u001b[0m \u001b[0ma\u001b[0m \u001b[0;34m==\u001b[0m \u001b[0;36m0\u001b[0m\u001b[0;34m:\u001b[0m\u001b[0;34m\u001b[0m\u001b[0;34m\u001b[0m\u001b[0m\n\u001b[0m\u001b[1;32m      2\u001b[0m   \u001b[0mprint\u001b[0m\u001b[0;34m(\u001b[0m\u001b[0;34m'Nữ giới mặt hình trái tim thông minh, khôn khéo, nhanh nhạy nên đường công danh và sự nghiệp tốt. Tuy nhiên, ở giai đoạn 22 – 26 tuổi, sự nghiệp của họ khá lận đận, phải thay đổi nhiều môi trường mới tìm được công việc phù hợp. Sau năm 26 tuổi, những người sở hữu mặt trái tim phải cố gắng nỗ lực trong công việc thì hậu vận mới được an nhàn, sự nghiệp từ đó bắt đầu “phất lên như diều gặp gió”.'\u001b[0m\u001b[0;34m)\u001b[0m\u001b[0;34m\u001b[0m\u001b[0;34m\u001b[0m\u001b[0m\n\u001b[1;32m      3\u001b[0m   \u001b[0mprint\u001b[0m\u001b[0;34m(\u001b[0m\u001b[0;34m'Đàn ông sở hữu tướng mặt hình trái tim có đường sự nghiệp tương đối tốt.Họ chịu áp lực rất giỏi và phù hợp với những công việc đòi hỏi tính sáng tạo. Nếu hoạt động nghệ thuật, nam giới mặt trái tim sẽ gặt hái thành tựu to lớn và có nhiều điểm khác biệt tạo nên thương hiệu cá nhân.'\u001b[0m\u001b[0;34m)\u001b[0m\u001b[0;34m\u001b[0m\u001b[0;34m\u001b[0m\u001b[0m\n",
            "\u001b[0;31mNameError\u001b[0m: name 'a' is not defined"
          ]
        }
      ]
    },
    {
      "cell_type": "code",
      "source": [],
      "metadata": {
        "id": "-cXpqFtjoZYs"
      },
      "execution_count": null,
      "outputs": []
    }
  ]
}